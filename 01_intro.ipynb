{
 "cells": [
  {
   "cell_type": "markdown",
   "metadata": {},
   "source": [
    "# Let's Talk about Artificial Neural Networks"
   ]
  },
  {
   "cell_type": "markdown",
   "metadata": {},
   "source": [
    "### Structure of ANN\n",
    "- Input layer\n",
    "- Hidden layer(s)\n",
    "- Output layer\n",
    "<img src='resources/ann.png' alt='Drawing' style='height: 400px;'/>"
   ]
  },
  {
   "cell_type": "markdown",
   "metadata": {},
   "source": [
    "### What happens inside a single neuron?\n",
    "<img src='resources/activation.png' alt='Drawing' style='height: 300px;'/>"
   ]
  },
  {
   "cell_type": "markdown",
   "metadata": {},
   "source": [
    "### Different activation functions\n",
    "<img src='resources/activation2.png' alt='Drawing' style='height: 300px;'/>"
   ]
  },
  {
   "cell_type": "code",
   "execution_count": 1,
   "metadata": {},
   "outputs": [],
   "source": [
    "import numpy as np\n",
    "import matplotlib.pyplot as plt"
   ]
  },
  {
   "cell_type": "code",
   "execution_count": 8,
   "metadata": {},
   "outputs": [
    {
     "data": {
      "image/png": "[encoded data removed]",
      "text/plain": [
       "<Figure size 432x288 with 1 Axes>"
      ]
     },
     "metadata": {
      "needs_background": "light"
     },
     "output_type": "display_data"
    }
   ],
   "source": [
    "z = np.arange(-10, 10, 0.3)\n",
    "sigm = 1 / (1 + np.exp(-z))\n",
    "plt.plot(z, sigm, color = 'red', linewidth= 1.5)\n",
    "plt.xlabel('Z', size = 14, alpha = 0.8)\n",
    "plt.ylabel('σ(z)', size = 14, alpha = 0.8)\n",
    "plt.title('Sigmoid Function', size = 14).set_position([.5, 1.05])"
   ]
  },
  {
   "cell_type": "markdown",
   "metadata": {},
   "source": [
    "[Built-in activation functions in TF](https://www.tensorflow.org/api_docs/python/tf/keras/activations)"
   ]
  },
  {
   "cell_type": "markdown",
   "metadata": {},
   "source": [
    "### How do ANNs work?\n",
    "<img src='resources/ann2.jpeg' alt='Drawing' style='height: 400px;'/>"
   ]
  },
  {
   "cell_type": "markdown",
   "metadata": {},
   "source": [
    "### How do ANNs learn?\n",
    "- Cost (loss) function\n",
    "- [Gradient descent](https://towardsdatascience.com/types-of-optimization-algorithms-used-in-neural-networks-and-ways-to-optimize-gradient-95ae5d39529f)\n",
    "- Backpropagation\n",
    "<img src='resources/gradient.png' alt='Drawing' style='height: 300px;'/>"
   ]
  },
  {
   "cell_type": "markdown",
   "metadata": {},
   "source": [
    "[3Blue1Brown's YouTube playlist on ANNs](https://www.youtube.com/watch?v=aircAruvnKk&list=PLZHQObOWTQDNU6R1_67000Dx_ZCJB-3pi)"
   ]
  }
 ],
 "metadata": {
  "kernelspec": {
   "display_name": "Python 3",
   "language": "python",
   "name": "python3"
  },
  "language_info": {
   "codemirror_mode": {
    "name": "ipython",
    "version": 3
   },
   "file_extension": ".py",
   "mimetype": "text/x-python",
   "name": "python",
   "nbconvert_exporter": "python",
   "pygments_lexer": "ipython3",
   "version": "3.7.4"
  }
 },
 "nbformat": 4,
 "nbformat_minor": 2
}
