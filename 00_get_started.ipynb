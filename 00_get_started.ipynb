{
 "cells": [
  {
   "cell_type": "markdown",
   "metadata": {},
   "source": [
    "# How to Get Started\n",
    "\n",
    "### Install Pipenv\n",
    "[Installing Pipenv](https://pipenv.readthedocs.io/en/latest/install/#installing-pipenv)\n",
    "\n",
    "`pip install pipenv`\n",
    "`pip install --user pipenv`\n",
    "\n",
    "\n",
    "### Working with Pipenv\n",
    "\n",
    "`cd path_to_project`\n",
    "\n",
    "`pipenv install`\n",
    "`pipenv install <package>`\n",
    "\n",
    "`pipenv shell`\n",
    "\n",
    "`exit`\n",
    "\n",
    "[Working with Pipenv](https://pipenv.readthedocs.io/en/latest/basics/#example-pipenv-workflow)"
   ]
  }
 ],
 "metadata": {
  "kernelspec": {
   "display_name": "Python 3",
   "language": "python",
   "name": "python3"
  },
  "language_info": {
   "codemirror_mode": {
    "name": "ipython",
    "version": 3
   },
   "file_extension": ".py",
   "mimetype": "text/x-python",
   "name": "python",
   "nbconvert_exporter": "python",
   "pygments_lexer": "ipython3",
   "version": "3.7.4"
  }
 },
 "nbformat": 4,
 "nbformat_minor": 2
}
